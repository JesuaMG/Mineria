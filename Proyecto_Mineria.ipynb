{
  "nbformat": 4,
  "nbformat_minor": 0,
  "metadata": {
    "colab": {
      "name": "Proyecto Mineria.ipynb",
      "provenance": [],
      "include_colab_link": true
    },
    "kernelspec": {
      "name": "python3",
      "display_name": "Python 3"
    }
  },
  "cells": [
    {
      "cell_type": "markdown",
      "metadata": {
        "id": "view-in-github",
        "colab_type": "text"
      },
      "source": [
        "<a href=\"https://colab.research.google.com/github/JesuaMG/Mineria/blob/master/Proyecto_Mineria.ipynb\" target=\"_parent\"><img src=\"https://colab.research.google.com/assets/colab-badge.svg\" alt=\"Open In Colab\"/></a>"
      ]
    },
    {
      "cell_type": "markdown",
      "metadata": {
        "id": "0SnG-wmRYB1y",
        "colab_type": "text"
      },
      "source": [
        "Proyecto de Minería de Datos"
      ]
    },
    {
      "cell_type": "code",
      "metadata": {
        "id": "a9fs1K88UFPj",
        "colab_type": "code",
        "colab": {}
      },
      "source": [
        "#Importación de las librerias que usaremos en el proyecto\n",
        "import pandas as pd\n",
        "import numpy as np\n",
        "import matplotlib.pyplot as plt\n",
        "import seaborn as sb\n",
        "from sklearn.cluster import KMeans\n",
        "from sklearn.metrics import pairwise_distances_argmin_min\n",
        " \n",
        "%matplotlib inline\n",
        "\n",
        "from mpl_toolkits.mplot3d import Axes3D\n",
        "plt.rcParams['figure.figsize'] = (16, 9)\n",
        "plt.style.use('ggplot')\n",
        "\n",
        "#Ruta del archivo (Desde GitHub)\n",
        "dataframe = pd.read_csv(\"https://raw.githubusercontent.com/JesuaMG/Mineria/master/Video_Games_Sales.csv\", skipfooter=2)\n",
        "dataframe.head\n",
        "\n",
        "dataframe\n",
        "\n",
        "dataframe.describe()\n",
        "\n",
        "#Grafica de los datos\n",
        "dataframe.drop(['Critic_Count', 'Critic_Score', 'User_Count'],1).hist()\n",
        "plt.show()\n",
        "\n",
        "#Grafica de Relación de los datos\n",
        "sb.pairplot(dataframe.dropna(), hue='Genre',size=4,vars=[\"NA_Sales\",\"EU_Sales\",\"JP_Sales\"],kind='scatter')\n",
        "\n",
        "#Genero / Ventas en Norte America\n",
        "df=pd.DataFrame(dataframe)\n",
        "x=df['Genre'].values\n",
        "y=df['NA_Sales'].values\n",
        "\n",
        "X=np.array(list(zip(x, y)))\n",
        "print (X)\n",
        "\n",
        "#Numero de Clusters\n",
        "kmeans = KMeans(n_clusters=4)\n",
        "\n",
        "kmeans = kmeans.fit(X)\n",
        "labels = kmeans.predict(X)\n",
        "centroids=kmeans.cluster_centers_\n",
        "\n",
        "colors=[\"m.\", \"r.\", \"c.\", \"y.\", \"b.\"]\n",
        "\n",
        "\n",
        "for i in range(len(X)):\n",
        "  #print(\"Coordenada: \", X[i], \"Label: \", labels[i])\n",
        "  plt.plot(X[i][0], X[i][1], colors[labels[i]], markersize=10)\n",
        "\n",
        "#Grafica de los Clusters\n",
        "plt.scatter(centroids[:,0],centroids[:,1],marker='x', s=150, linewidths=10,zorder=10)\n",
        "plt.show()\n",
        "\n"
      ],
      "execution_count": null,
      "outputs": []
    },
    {
      "cell_type": "code",
      "metadata": {
        "id": "HiuNYQOxnOOX",
        "colab_type": "code",
        "colab": {}
      },
      "source": [
        "#Genero / Ventas en Union Europea\n",
        "df=pd.DataFrame(dataframe)\n",
        "x=df['Genre'].values\n",
        "y=df['EU_Sales'].values\n",
        "\n",
        "X=np.array(list(zip(x, y)))\n",
        "print (X)\n",
        "\n",
        "#Numero de Clusters\n",
        "kmeans = KMeans(n_clusters=4)\n",
        "\n",
        "kmeans = kmeans.fit(X)\n",
        "labels = kmeans.predict(X)\n",
        "centroids=kmeans.cluster_centers_\n",
        "\n",
        "colors=[\"m.\", \"r.\", \"c.\", \"y.\", \"b.\"]\n",
        "\n",
        "for i in range(len(X)):\n",
        "  #print(\"Coordenada: \", X[i], \"Label: \", labels[i])\n",
        "  plt.plot(X[i][0], X[i][1], colors[labels[i]], markersize=10)\n",
        "\n",
        "#Grafica de los Clusters\n",
        "plt.scatter(centroids[:,0],centroids[:,1],marker='x', s=150, linewidths=5,zorder=10)\n",
        "plt.show()\n"
      ],
      "execution_count": null,
      "outputs": []
    },
    {
      "cell_type": "code",
      "metadata": {
        "id": "A-BA6pncnQvP",
        "colab_type": "code",
        "colab": {}
      },
      "source": [
        "#Genero / Ventas en Japon\n",
        "df=pd.DataFrame(dataframe)\n",
        "x=df['Genre'].values\n",
        "y=df['JP_Sales'].values\n",
        "\n",
        "X=np.array(list(zip(x, y)))\n",
        "print (X)\n",
        "\n",
        "#Numero de Clusters\n",
        "kmeans = KMeans(n_clusters=4)\n",
        "\n",
        "kmeans = kmeans.fit(X)\n",
        "labels = kmeans.predict(X)\n",
        "centroids=kmeans.cluster_centers_\n",
        "\n",
        "colors=[\"m.\", \"r.\", \"c.\", \"y.\", \"b.\"]\n",
        "\n",
        "for i in range(len(X)):\n",
        "  #print(\"Coordenada: \", X[i], \"Label: \", labels[i])\n",
        "  plt.plot(X[i][0], X[i][1], colors[labels[i]], markersize=10)\n",
        "\n",
        "#Grafica de los Clusters\n",
        "plt.scatter(centroids[:,0],centroids[:,1],marker='x', s=150, linewidths=5,zorder=10)\n",
        "plt.show()\n"
      ],
      "execution_count": null,
      "outputs": []
    },
    {
      "cell_type": "code",
      "metadata": {
        "id": "-veyDrY7nreq",
        "colab_type": "code",
        "colab": {
          "base_uri": "https://localhost:8080/",
          "height": 656
        },
        "outputId": "f03068b9-3d2c-43af-d7c8-939da8bb12c4"
      },
      "source": [
        "#Genero / Ventas Globales\n",
        "df=pd.DataFrame(dataframe)\n",
        "x=df['Genre'].values\n",
        "y=df['Global_Sales'].values\n",
        "\n",
        "X=np.array(list(zip(x, y)))\n",
        "print (X)\n",
        "\n",
        "#Numero de Clusters\n",
        "kmeans = KMeans(n_clusters=4)\n",
        "\n",
        "kmeans = kmeans.fit(X)\n",
        "labels = kmeans.predict(X)\n",
        "centroids=kmeans.cluster_centers_\n",
        "\n",
        "colors=[\"m.\", \"r.\", \"c.\", \"y.\", \"b.\"]\n",
        "\n",
        "for i in range(len(X)):\n",
        "  #print(\"Coordenada: \", X[i], \"Label: \", labels[i])\n",
        "  plt.plot(X[i][0], X[i][1], colors[labels[i]], markersize=10)\n",
        "\n",
        "#Grafica de los Clusters\n",
        "plt.scatter(centroids[:,0],centroids[:,1],marker='x', s=150, linewidths=5,zorder=10)\n",
        "plt.show()"
      ],
      "execution_count": 16,
      "outputs": [
        {
          "output_type": "stream",
          "text": [
            "[[9.   1.  ]\n",
            " [8.   0.03]\n",
            " [8.   1.68]\n",
            " ...\n",
            " [4.   0.22]\n",
            " [8.   0.02]\n",
            " [1.   0.05]]\n"
          ],
          "name": "stdout"
        },
        {
          "output_type": "display_data",
          "data": {
            "image/png": "[encoded data removed]",
            "text/plain": [
              "<Figure size 1152x648 with 1 Axes>"
            ]
          },
          "metadata": {
            "tags": []
          }
        }
      ]
    }
  ]
}